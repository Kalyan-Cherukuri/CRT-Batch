{
 "cells": [
  {
   "cell_type": "markdown",
   "metadata": {},
   "source": [
    "# Python\n",
    "- Topics Covered\n",
    "   - Operators\n",
    "   - Datatypes\n",
    "   - Conditional Statements"
   ]
  },
  {
   "cell_type": "markdown",
   "metadata": {},
   "source": [
    "# Python\n",
    "- Topics Covered\n",
    "    1 Operators\n",
    "    2 Data Types\n",
    "    3 Conditional Statements"
   ]
  },
  {
   "cell_type": "markdown",
   "metadata": {},
   "source": [
    "**Bold**\n",
    "*Italic*\n",
    "***Bold and Italic***"
   ]
  },
  {
   "cell_type": "code",
   "execution_count": 4,
   "metadata": {},
   "outputs": [
    {
     "name": "stdout",
     "output_type": "stream",
     "text": [
      "Hello world\n"
     ]
    }
   ],
   "source": [
    "print(\"Hello world\")"
   ]
  },
  {
   "cell_type": "code",
   "execution_count": 10,
   "metadata": {},
   "outputs": [
    {
     "name": "stdout",
     "output_type": "stream",
     "text": [
      "NICE TOOL\n"
     ]
    }
   ],
   "source": [
    "print(\"NICE TOOL\")"
   ]
  },
  {
   "cell_type": "markdown",
   "metadata": {},
   "source": [
    "# Variable\n",
    "## also called as identifier\n",
    "### to store some value and some memory\n",
    "#### Naming Rules:\n",
    "##### 1) it always starts with a alphabet,cannot start with  a symbol\n",
    "##### 2) it can  start with \" - \" ,but no special characters aree allowed\n",
    "##### 3) keywords cannot be used as variables\n",
    "\n"
   ]
  },
  {
   "cell_type": "code",
   "execution_count": 7,
   "metadata": {},
   "outputs": [],
   "source": [
    "a = 10\n",
    "b = 2.34"
   ]
  },
  {
   "cell_type": "code",
   "execution_count": 8,
   "metadata": {},
   "outputs": [
    {
     "data": {
      "text/plain": [
       "int"
      ]
     },
     "execution_count": 8,
     "metadata": {},
     "output_type": "execute_result"
    }
   ],
   "source": [
    "type(a)"
   ]
  },
  {
   "cell_type": "code",
   "execution_count": 9,
   "metadata": {},
   "outputs": [
    {
     "data": {
      "text/plain": [
       "float"
      ]
     },
     "execution_count": 9,
     "metadata": {},
     "output_type": "execute_result"
    }
   ],
   "source": [
    "type(b)"
   ]
  },
  {
   "cell_type": "code",
   "execution_count": 11,
   "metadata": {},
   "outputs": [
    {
     "name": "stdout",
     "output_type": "stream",
     "text": [
      "My name is :kalyan\n"
     ]
    }
   ],
   "source": [
    "name = \"kalyan\"\n",
    "print(\"My name is :\" + name)"
   ]
  },
  {
   "cell_type": "markdown",
   "metadata": {},
   "source": [
    "# Input Fucntion"
   ]
  },
  {
   "cell_type": "code",
   "execution_count": 24,
   "metadata": {},
   "outputs": [
    {
     "name": "stdout",
     "output_type": "stream",
     "text": [
      "Enter the name : kalyan\n",
      "name :  kalyan\n"
     ]
    }
   ],
   "source": [
    "name = input(\"Enter the name : \")\n",
    "print(\"name : \",name)"
   ]
  },
  {
   "cell_type": "code",
   "execution_count": 18,
   "metadata": {},
   "outputs": [
    {
     "data": {
      "text/plain": [
       "94295072"
      ]
     },
     "execution_count": 18,
     "metadata": {},
     "output_type": "execute_result"
    }
   ],
   "source": [
    "id(name)"
   ]
  },
  {
   "cell_type": "code",
   "execution_count": 21,
   "metadata": {},
   "outputs": [
    {
     "data": {
      "text/plain": [
       "91334200"
      ]
     },
     "execution_count": 21,
     "metadata": {},
     "output_type": "execute_result"
    }
   ],
   "source": [
    "id(rollno)"
   ]
  },
  {
   "cell_type": "markdown",
   "metadata": {},
   "source": [
    "# Type Converting"
   ]
  },
  {
   "cell_type": "code",
   "execution_count": 25,
   "metadata": {},
   "outputs": [
    {
     "name": "stdout",
     "output_type": "stream",
     "text": [
      "Enter a no. : 5\n",
      "Enter a no. : 10\n",
      "15\n"
     ]
    }
   ],
   "source": [
    "a = int(input(\"Enter a no. : \"))\n",
    "b = int(input(\"Enter a no. : \"))\n",
    "print(a+b)"
   ]
  },
  {
   "cell_type": "markdown",
   "metadata": {},
   "source": [
    "# Data Types in Python\n",
    "## 1:-Int\n",
    "## 2:-Float\n",
    "## 3:-String\n",
    "## 4:-Boolean\n",
    "## 5:-Complex\n"
   ]
  },
  {
   "cell_type": "code",
   "execution_count": 38,
   "metadata": {},
   "outputs": [
    {
     "name": "stdout",
     "output_type": "stream",
     "text": [
      "(3+4j)\n"
     ]
    }
   ],
   "source": [
    "c = complex(3,4)\n",
    "print(c)"
   ]
  },
  {
   "cell_type": "code",
   "execution_count": 39,
   "metadata": {},
   "outputs": [
    {
     "data": {
      "text/plain": [
       "3.0"
      ]
     },
     "execution_count": 39,
     "metadata": {},
     "output_type": "execute_result"
    }
   ],
   "source": [
    "c.real"
   ]
  },
  {
   "cell_type": "code",
   "execution_count": 40,
   "metadata": {},
   "outputs": [
    {
     "data": {
      "text/plain": [
       "4.0"
      ]
     },
     "execution_count": 40,
     "metadata": {},
     "output_type": "execute_result"
    }
   ],
   "source": [
    "c.imag"
   ]
  },
  {
   "cell_type": "markdown",
   "metadata": {},
   "source": [
    "# Boolean\n",
    "## 2 types ---->1:-True\n",
    "##  --------------->2:-False"
   ]
  },
  {
   "cell_type": "markdown",
   "metadata": {},
   "source": [
    "# Strings"
   ]
  },
  {
   "cell_type": "code",
   "execution_count": 41,
   "metadata": {},
   "outputs": [
    {
     "name": "stdout",
     "output_type": "stream",
     "text": [
      "<class 'str'>\n"
     ]
    },
    {
     "data": {
      "text/plain": [
       "str"
      ]
     },
     "execution_count": 41,
     "metadata": {},
     "output_type": "execute_result"
    }
   ],
   "source": [
    "x = \"a\"\n",
    "y = \"Python\"\n",
    "print(type(x))\n",
    "type(x)"
   ]
  },
  {
   "cell_type": "code",
   "execution_count": 45,
   "metadata": {},
   "outputs": [
    {
     "name": "stdout",
     "output_type": "stream",
     "text": [
      "<class 'int'>\n",
      "<class 'str'>\n"
     ]
    }
   ],
   "source": [
    "i = 180\n",
    "print(type(i))\n",
    "print(type(str(i)))"
   ]
  },
  {
   "cell_type": "code",
   "execution_count": 50,
   "metadata": {},
   "outputs": [
    {
     "name": "stdout",
     "output_type": "stream",
     "text": [
      "<class 'int'>\n",
      "20\n"
     ]
    }
   ],
   "source": [
    "i = 20\n",
    "print(type(i))\n",
    "type(float(i))\n"
   ]
  },
  {
   "cell_type": "markdown",
   "metadata": {},
   "source": [
    "## Operators\n",
    "\n",
    "### 1:- Arithmetic Operators : +,-,*,/,%,//-->float division,** --->power\n",
    "### 2:- Logical Operators      : and, or , not\n",
    "### 3:- Relational Operators : <,>,=,<=,>=,==,!=\n",
    "### 4:- Membership Operators : in and not in"
   ]
  },
  {
   "cell_type": "code",
   "execution_count": 52,
   "metadata": {},
   "outputs": [
    {
     "name": "stdout",
     "output_type": "stream",
     "text": [
      "7\n",
      "-1\n",
      "12\n",
      "0.75\n",
      "3\n",
      "0\n",
      "81\n"
     ]
    }
   ],
   "source": [
    "##Arithmetic Operators\n",
    "x = 3\n",
    "y = 4\n",
    "print(x+y)\n",
    "print(x-y)\n",
    "print(x*y)\n",
    "print(x/y) #-->It stores the quotient\n",
    "print(x%y) #-->It stores the remainder\n",
    "print(x//y)#-->It stores the quotient(Without decimal values)\n",
    "print(x**y)"
   ]
  },
  {
   "cell_type": "code",
   "execution_count": 69,
   "metadata": {},
   "outputs": [
    {
     "name": "stdout",
     "output_type": "stream",
     "text": [
      "True\n",
      "False\n",
      "True\n",
      "False\n",
      "False\n",
      "True\n"
     ]
    }
   ],
   "source": [
    "##Logical Operators\n",
    "print(a<=40 and b>=10)\n",
    "print(a>=40 and b<=10)\n",
    "print(a!=40 and b>10)\n",
    "print(not a)\n",
    "x=a>b\n",
    "print(x)\n",
    "print(not x)"
   ]
  },
  {
   "cell_type": "code",
   "execution_count": 70,
   "metadata": {},
   "outputs": [
    {
     "name": "stdout",
     "output_type": "stream",
     "text": [
      "False\n",
      "True\n",
      "False\n",
      "True\n",
      "False\n",
      "True\n"
     ]
    }
   ],
   "source": [
    "##Relational Operators\n",
    "a = 20\n",
    "b = 30\n",
    "c = 10\n",
    "print(a>b)\n",
    "print(a<b)\n",
    "print(a>=b)\n",
    "print(a<=b)\n",
    "print(a==b)\n",
    "print(a!=b)"
   ]
  },
  {
   "cell_type": "code",
   "execution_count": 74,
   "metadata": {},
   "outputs": [
    {
     "name": "stdout",
     "output_type": "stream",
     "text": [
      "True\n",
      "False\n"
     ]
    }
   ],
   "source": [
    "##Membership Operator\n",
    "str1 = \"abc\"\n",
    "print(\"c\" in str1)\n",
    "print(\"c\" not in str1)"
   ]
  },
  {
   "cell_type": "markdown",
   "metadata": {},
   "source": [
    "# Conditional Statements\n",
    "### 1:- if(Used for a single condition)\n",
    "### 2:- if-else(Used for 2 conditions)\n",
    "### 3:- elif(Used for multiple conditions)"
   ]
  },
  {
   "cell_type": "code",
   "execution_count": 80,
   "metadata": {},
   "outputs": [
    {
     "name": "stdout",
     "output_type": "stream",
     "text": [
      "Enter the number10\n",
      "Even number\n"
     ]
    }
   ],
   "source": [
    "##Check for odd number\n",
    "n = int(input(\"Enter the number\"))\n",
    "if(n%2!=0):\n",
    "    print(\"Odd number\")\n",
    "else:\n",
    "    print(\"Even number\")"
   ]
  },
  {
   "cell_type": "code",
   "execution_count": 83,
   "metadata": {},
   "outputs": [
    {
     "name": "stdout",
     "output_type": "stream",
     "text": [
      "Enter the number : 21\n",
      "not divisible by 3 and 5\n"
     ]
    }
   ],
   "source": [
    "##Divisible by 3 and 5\n",
    "n = int(input(\"Enter the number : \"))\n",
    "if(n%3==0 and n%5==0):\n",
    "    print(\"Divisible by 3 and 5\")\n",
    "else:\n",
    "    print(\"not divisible by 3 and 5\")"
   ]
  },
  {
   "cell_type": "code",
   "execution_count": 87,
   "metadata": {},
   "outputs": [
    {
     "name": "stdout",
     "output_type": "stream",
     "text": [
      "Enter the number0\n",
      "0\n"
     ]
    }
   ],
   "source": [
    "##Weather a number is +ve ,-ve or Zero\n",
    "n = int(input(\"Enter the number\"))\n",
    "if(n>0):\n",
    "    print(\"+ve no.\")\n",
    "elif(n<0):\n",
    "    print(\"-ve no.\")\n",
    "else:\n",
    "    print(\"0\")"
   ]
  },
  {
   "cell_type": "code",
   "execution_count": 91,
   "metadata": {},
   "outputs": [
    {
     "name": "stdout",
     "output_type": "stream",
     "text": [
      "Enter the number2\n",
      "Enter the number5\n",
      "Enter the number4\n",
      "b is greatest\n"
     ]
    }
   ],
   "source": [
    "##Greatest of 3 numbers:\n",
    "a = int(input(\"Enter the number\"))\n",
    "b = int(input(\"Enter the number\"))\n",
    "c = int(input(\"Enter the number\"))\n",
    "\n",
    "if(a>b and a>c):\n",
    "    print(\"a is greatest\")\n",
    "elif(b>a and b>c):\n",
    "    print(\"b is greatest\")\n",
    "else:\n",
    "    print(\"c is greatest\")"
   ]
  },
  {
   "cell_type": "code",
   "execution_count": 92,
   "metadata": {},
   "outputs": [
    {
     "name": "stdout",
     "output_type": "stream",
     "text": [
      "2 is greater\n"
     ]
    }
   ],
   "source": [
    "print(a,\"is greater\")"
   ]
  },
  {
   "cell_type": "code",
   "execution_count": 97,
   "metadata": {},
   "outputs": [
    {
     "name": "stdout",
     "output_type": "stream",
     "text": [
      "Enter the year2001\n",
      "Not a leap year\n"
     ]
    }
   ],
   "source": [
    "year = int(input(\"Enter the year\"))\n",
    "if(year%4==0 and year%100!=0):\n",
    "    print(\"It is a leap year\")\n",
    "elif(year%400==0):\n",
    "    print(\"It is a leap year\")\n",
    "else:\n",
    "    print(\"Not a leap year\")"
   ]
  },
  {
   "cell_type": "code",
   "execution_count": 98,
   "metadata": {},
   "outputs": [
    {
     "name": "stdout",
     "output_type": "stream",
     "text": [
      "Kalyan is a good boy\n"
     ]
    }
   ],
   "source": [
    "k = \"Kalyan is a good boy\"\n",
    "print(k)"
   ]
  }
 ],
 "metadata": {
  "kernelspec": {
   "display_name": "Python 3",
   "language": "python",
   "name": "python3"
  },
  "language_info": {
   "codemirror_mode": {
    "name": "ipython",
    "version": 3
   },
   "file_extension": ".py",
   "mimetype": "text/x-python",
   "name": "python",
   "nbconvert_exporter": "python",
   "pygments_lexer": "ipython3",
   "version": "3.7.4"
  }
 },
 "nbformat": 4,
 "nbformat_minor": 2
}
